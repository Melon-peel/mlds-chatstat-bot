{
 "cells": [
  {
   "cell_type": "code",
   "execution_count": 53,
   "id": "0f916fbf-1116-4224-8c66-895c89d98218",
   "metadata": {},
   "outputs": [],
   "source": [
    "from telethon.sync import TelegramClient\n",
    " \n",
    "import csv\n",
    " \n",
    "from telethon.tl.functions.messages import GetDialogsRequest\n",
    "from telethon.tl.types import InputPeerEmpty\n",
    "from telethon.tl.functions.messages import GetHistoryRequest\n",
    "from telethon.tl.types import PeerChannel\n",
    "import json"
   ]
  },
  {
   "cell_type": "code",
   "execution_count": 9,
   "id": "2488870a-7aed-4eed-8e15-5198c08550a1",
   "metadata": {},
   "outputs": [],
   "source": [
    "with open(\"tg_cfg.json\", \"r\") as f:\n",
    "    cfg = json.load(f)\n",
    "app_id = cfg['app_id']\n",
    "api_hash = cfg['api_hash']\n",
    "phone = cfg['phone']\n",
    "    "
   ]
  },
  {
   "cell_type": "code",
   "execution_count": 10,
   "id": "48bf088e-ebe5-4309-8d7b-def0e07036e1",
   "metadata": {},
   "outputs": [],
   "source": [
    "client = TelegramClient(phone, app_id, api_hash)"
   ]
  },
  {
   "cell_type": "code",
   "execution_count": 21,
   "id": "d613153c-c968-43f0-bdad-54fd7adb2bfb",
   "metadata": {},
   "outputs": [],
   "source": [
    "client = await client.start()"
   ]
  },
  {
   "cell_type": "code",
   "execution_count": 31,
   "id": "33517dde-d734-4bef-8e30-20f83e9584ca",
   "metadata": {},
   "outputs": [],
   "source": [
    "chats = []\n",
    "last_date = None\n",
    "size_chats = 200\n",
    "groups=[]"
   ]
  },
  {
   "cell_type": "code",
   "execution_count": 32,
   "id": "c34ab326-8bb2-491a-99fb-cac41ceab8a3",
   "metadata": {},
   "outputs": [],
   "source": [
    "result = client(GetDialogsRequest(\n",
    "            offset_date=last_date,\n",
    "            offset_id=0,\n",
    "            offset_peer=InputPeerEmpty(),\n",
    "            limit=size_chats,\n",
    "            hash = 0\n",
    "        ))\n",
    "result = await result\n",
    "chats.extend(result.chats)"
   ]
  },
  {
   "cell_type": "code",
   "execution_count": 36,
   "id": "ae286650-4837-4703-814b-7ce206704ebe",
   "metadata": {},
   "outputs": [],
   "source": [
    "for chat in chats:\n",
    "   try:\n",
    "       if chat.megagroup== True:\n",
    "           groups.append(chat)\n",
    "   except:\n",
    "       continue"
   ]
  },
  {
   "cell_type": "code",
   "execution_count": 40,
   "id": "3bdc2d15-ee40-4d81-9348-74d63bf4a904",
   "metadata": {},
   "outputs": [],
   "source": [
    "valid_titles = {\"[a23] Машинное обучение (ML)\", \"[a23] Годовой проект\", \"[a23] Математика для анализа данных\", \n",
    "               \"[a23] Промышленная разработка\", \"[a2*] Прикладной MLOps (Владислав Гончаренко)\", \"[a23] Инструменты разработки\", \n",
    "               \"[a23] Python\", }\n",
    "valid_groups = []\n",
    "for g in groups:\n",
    "    if g.title in valid_titles:\n",
    "        valid_groups.append(g)"
   ]
  },
  {
   "cell_type": "code",
   "execution_count": 70,
   "id": "1f4a8612-92c7-4c3b-a69a-ffc3611aff70",
   "metadata": {},
   "outputs": [],
   "source": [
    "all_participants = []\n",
    "\n",
    "for group in valid_groups:\n",
    "    group_users = await client.get_participants(group)\n",
    "    for user in group_users:\n",
    "        if user.username:\n",
    "           username= user.username\n",
    "        else:\n",
    "           username= \"\"\n",
    "        if user.first_name:\n",
    "           first_name= user.first_name\n",
    "        else:\n",
    "           first_name= \"\"\n",
    "        if user.last_name:\n",
    "           last_name= user.last_name\n",
    "        else:\n",
    "           last_name= \"\"\n",
    "        user_id = user.id\n",
    "        name = (first_name + ' ' + last_name).strip()\n",
    "        all_participants.append([user_id, username, name, group.title])"
   ]
  },
  {
   "cell_type": "code",
   "execution_count": 90,
   "id": "7f23d510-02c5-481d-a3c9-009e6b814468",
   "metadata": {},
   "outputs": [],
   "source": [
    "import pandas as pd\n",
    "\n",
    "df = pd.DataFrame(data=all_participants, columns=['user_id', 'user_name', 'name', 'group_name'])\n",
    "df.to_csv(\"../data/mlds_chats_users.csv\", index=False)"
   ]
  },
  {
   "cell_type": "code",
   "execution_count": 59,
   "id": "0baf58c1-b676-4334-97e8-bb802f84eae1",
   "metadata": {},
   "outputs": [],
   "source": [
    "unique_groups = df['group_name'].unique()"
   ]
  },
  {
   "cell_type": "code",
   "execution_count": 63,
   "id": "ba86a82a-a7c1-4435-af10-6f3c9c56a347",
   "metadata": {},
   "outputs": [],
   "source": [
    "from tqdm import tqdm"
   ]
  },
  {
   "cell_type": "code",
   "execution_count": 64,
   "id": "941aebce-66f5-4686-aa7b-bc323b92a7c4",
   "metadata": {},
   "outputs": [
    {
     "name": "stderr",
     "output_type": "stream",
     "text": [
      "100%|█████████████████████████████████████████████| 7/7 [01:05<00:00,  9.29s/it]\n"
     ]
    }
   ],
   "source": [
    "mlds_chats = []\n",
    "for g in tqdm(valid_groups):\n",
    "    all_messages = []\n",
    "    offset_id = 0\n",
    "    limit = 100\n",
    "    total_messages = 0\n",
    "    total_count_limit = 0\n",
    "    while True:\n",
    "        history = client(GetHistoryRequest(\n",
    "           peer=g,\n",
    "           offset_id=offset_id,\n",
    "           offset_date=None,\n",
    "           add_offset=0,\n",
    "           limit=limit,\n",
    "           max_id=0,\n",
    "           min_id=0,\n",
    "           hash=0\n",
    "        ))\n",
    "        history = await history\n",
    "        if not history.messages:\n",
    "           break\n",
    "        messages = history.messages\n",
    "        for message in messages:\n",
    "           all_messages.append(message.to_dict())\n",
    "        offset_id = messages[len(messages) - 1].id\n",
    "        if total_count_limit != 0 and total_messages >= total_count_limit:\n",
    "           break\n",
    "    mlds_chats.append([all_messages, g.title])"
   ]
  },
  {
   "cell_type": "code",
   "execution_count": 103,
   "id": "3a533f59-7010-4551-97d4-f5067bf2dc23",
   "metadata": {},
   "outputs": [],
   "source": [
    "users_navig_dict = dict()\n",
    "\n",
    "for _, row in df.iterrows():\n",
    "    user_id = row.user_id\n",
    "    user_name = row.user_name\n",
    "    name = row['name']\n",
    "    users_navig_dict.update({user_id: [user_name, name]})"
   ]
  },
  {
   "cell_type": "code",
   "execution_count": 330,
   "id": "95de9a7b-2f41-4515-afb1-dc691b762751",
   "metadata": {},
   "outputs": [],
   "source": [
    "full_chats_history = []\n",
    "\n",
    "\n",
    "for group in mlds_chats:\n",
    "    msgs, chat_name = group\n",
    "    for msg in msgs:\n",
    "        if msg['_'] != 'Message':\n",
    "            continue\n",
    "\n",
    "        from_id = msg['from_id']['user_id']\n",
    "        try:\n",
    "            from_username = users_navig_dict[from_id][0]\n",
    "        except KeyError:\n",
    "            continue\n",
    "        from_name = users_navig_dict[from_id][1]\n",
    "\n",
    "        \n",
    "        msg_id = msg['id']\n",
    "        msg_text = msg['message']\n",
    "        \n",
    "        \n",
    "        group_id = msg['peer_id']['channel_id']\n",
    "\n",
    "        msg_date = msg['date']\n",
    "        \n",
    "        datetime_obj = datetime.combine(msg_date.date(), datetime.min.time())\n",
    "        day_timestamp = datetime_obj.timestamp()\n",
    "        year = msg_date.year\n",
    "        month = msg_date.month\n",
    "        day = msg_date.day\n",
    "        hour = msg_date.hour\n",
    "        minute = msg_date.minute\n",
    "        second = msg_date.second\n",
    "        \n",
    "        full_chats_history.append([msg_id, from_id, from_username, from_name, group_id, chat_name, msg_text, day_timestamp, year, month, day, hour, minute, second])"
   ]
  },
  {
   "cell_type": "code",
   "execution_count": 331,
   "id": "0ba149c3-91bb-4d8a-85f6-30e66e7209a5",
   "metadata": {},
   "outputs": [],
   "source": [
    "columns = ['msg_id', 'from_id', 'from_username', 'from_name', 'group_id', 'chat_name', 'msg_text', 'day_timestamp', 'year', 'month', 'day', 'hour', 'minute', 'second']\n",
    "df_msgs = pd.DataFrame(data=full_chats_history, columns=columns)"
   ]
  },
  {
   "cell_type": "code",
   "execution_count": 332,
   "id": "7227b545-0cbe-4536-9a66-1e38fe653e1e",
   "metadata": {},
   "outputs": [],
   "source": [
    "df_msgs.to_csv(\"../data/mlds_chats_msgs.csv\")"
   ]
  }
 ],
 "metadata": {
  "kernelspec": {
   "display_name": "Python 3 (ipykernel)",
   "language": "python",
   "name": "python3"
  },
  "language_info": {
   "codemirror_mode": {
    "name": "ipython",
    "version": 3
   },
   "file_extension": ".py",
   "mimetype": "text/x-python",
   "name": "python",
   "nbconvert_exporter": "python",
   "pygments_lexer": "ipython3",
   "version": "3.10.12"
  }
 },
 "nbformat": 4,
 "nbformat_minor": 5
}
